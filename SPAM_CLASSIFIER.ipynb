{
 "cells": [
  {
   "cell_type": "code",
   "execution_count": 22,
   "metadata": {},
   "outputs": [],
   "source": [
    "import os\n",
    "import tarfile\n",
    "import urllib.request\n",
    "DOWNLOAD_ROOT = \"http://spamassassin.apache.org/old/publiccorpus/\"\n",
    "HAM_URL = DOWNLOAD_ROOT + \"20030228_easy_ham.tar.bz2\" \n",
    "SPAM_URL = DOWNLOAD_ROOT + \"20030228_spam.tar.bz2\" \n",
    "SPAM_PATH = os.path.join(\"datasets\", \"spam\") \n",
    "def fetch_spam_data(ham_url=HAM_URL, spam_url=SPAM_URL, spam_path=SPAM_PATH): \n",
    "    if not os.path.isdir(spam_path): \n",
    "        os.makedirs(spam_path) \n",
    "        for filename, url in ((\"ham.tar.bz2\", ham_url), (\"spam.tar.bz2\", spam_url)): \n",
    "            path = os.path.join(spam_path, filename) \n",
    "            if not os.path.isfile(path): \n",
    "                urllib.request.urlretrieve(url, path) \n",
    "                tar_bz2_file = tarfile.open(path) \n",
    "                tar_bz2_file.extractall(path=spam_path) \n",
    "                tar_bz2_file.close()"
   ]
  },
  {
   "cell_type": "code",
   "execution_count": 23,
   "metadata": {},
   "outputs": [],
   "source": [
    "fetch_spam_data()"
   ]
  }
 ],
 "metadata": {
  "kernelspec": {
   "display_name": "Python 3",
   "language": "python",
   "name": "python3"
  },
  "language_info": {
   "codemirror_mode": {
    "name": "ipython",
    "version": 3
   },
   "file_extension": ".py",
   "mimetype": "text/x-python",
   "name": "python",
   "nbconvert_exporter": "python",
   "pygments_lexer": "ipython3",
   "version": "3.12.0"
  }
 },
 "nbformat": 4,
 "nbformat_minor": 2
}
